{
 "cells": [
  {
   "cell_type": "code",
   "execution_count": 1,
   "id": "8d8a45c3",
   "metadata": {},
   "outputs": [],
   "source": [
    "import pandas as pd\n",
    "\n",
    "data = pd.read_csv(\"Data.csv\", sep=\";\")"
   ]
  },
  {
   "cell_type": "code",
   "execution_count": 5,
   "id": "b8520b62",
   "metadata": {},
   "outputs": [],
   "source": [
    "result = data[[\"Date\",\"Open\",\"Close\",\"Symbole\"]]"
   ]
  },
  {
   "cell_type": "code",
   "execution_count": 6,
   "id": "79b3b95e",
   "metadata": {},
   "outputs": [
    {
     "data": {
      "text/html": [
       "<div>\n",
       "<style scoped>\n",
       "    .dataframe tbody tr th:only-of-type {\n",
       "        vertical-align: middle;\n",
       "    }\n",
       "\n",
       "    .dataframe tbody tr th {\n",
       "        vertical-align: top;\n",
       "    }\n",
       "\n",
       "    .dataframe thead th {\n",
       "        text-align: right;\n",
       "    }\n",
       "</style>\n",
       "<table border=\"1\" class=\"dataframe\">\n",
       "  <thead>\n",
       "    <tr style=\"text-align: right;\">\n",
       "      <th></th>\n",
       "      <th>Date</th>\n",
       "      <th>Open</th>\n",
       "      <th>Close</th>\n",
       "      <th>Symbole</th>\n",
       "    </tr>\n",
       "  </thead>\n",
       "  <tbody>\n",
       "    <tr>\n",
       "      <th>0</th>\n",
       "      <td>2000-01-03</td>\n",
       "      <td>15.961748</td>\n",
       "      <td>16.056759</td>\n",
       "      <td>AI.PA</td>\n",
       "    </tr>\n",
       "    <tr>\n",
       "      <th>1</th>\n",
       "      <td>2000-01-04</td>\n",
       "      <td>16.056758</td>\n",
       "      <td>15.344180</td>\n",
       "      <td>AI.PA</td>\n",
       "    </tr>\n",
       "    <tr>\n",
       "      <th>2</th>\n",
       "      <td>2000-01-05</td>\n",
       "      <td>15.011645</td>\n",
       "      <td>15.201665</td>\n",
       "      <td>AI.PA</td>\n",
       "    </tr>\n",
       "    <tr>\n",
       "      <th>3</th>\n",
       "      <td>2000-01-06</td>\n",
       "      <td>15.002145</td>\n",
       "      <td>16.294287</td>\n",
       "      <td>AI.PA</td>\n",
       "    </tr>\n",
       "    <tr>\n",
       "      <th>4</th>\n",
       "      <td>2000-01-07</td>\n",
       "      <td>16.294285</td>\n",
       "      <td>16.094763</td>\n",
       "      <td>AI.PA</td>\n",
       "    </tr>\n",
       "    <tr>\n",
       "      <th>...</th>\n",
       "      <td>...</td>\n",
       "      <td>...</td>\n",
       "      <td>...</td>\n",
       "      <td>...</td>\n",
       "    </tr>\n",
       "    <tr>\n",
       "      <th>114274</th>\n",
       "      <td>2024-03-04</td>\n",
       "      <td>59.490002</td>\n",
       "      <td>59.389999</td>\n",
       "      <td>TTE.PA</td>\n",
       "    </tr>\n",
       "    <tr>\n",
       "      <th>114275</th>\n",
       "      <td>2024-03-05</td>\n",
       "      <td>59.049999</td>\n",
       "      <td>59.160000</td>\n",
       "      <td>TTE.PA</td>\n",
       "    </tr>\n",
       "    <tr>\n",
       "      <th>114276</th>\n",
       "      <td>2024-03-06</td>\n",
       "      <td>59.259998</td>\n",
       "      <td>59.980000</td>\n",
       "      <td>TTE.PA</td>\n",
       "    </tr>\n",
       "    <tr>\n",
       "      <th>114277</th>\n",
       "      <td>2024-03-07</td>\n",
       "      <td>59.680000</td>\n",
       "      <td>59.919998</td>\n",
       "      <td>TTE.PA</td>\n",
       "    </tr>\n",
       "    <tr>\n",
       "      <th>114278</th>\n",
       "      <td>2024-03-07</td>\n",
       "      <td>59.680000</td>\n",
       "      <td>59.990002</td>\n",
       "      <td>TTE.PA</td>\n",
       "    </tr>\n",
       "  </tbody>\n",
       "</table>\n",
       "<p>114279 rows × 4 columns</p>\n",
       "</div>"
      ],
      "text/plain": [
       "              Date       Open      Close Symbole\n",
       "0       2000-01-03  15.961748  16.056759   AI.PA\n",
       "1       2000-01-04  16.056758  15.344180   AI.PA\n",
       "2       2000-01-05  15.011645  15.201665   AI.PA\n",
       "3       2000-01-06  15.002145  16.294287   AI.PA\n",
       "4       2000-01-07  16.294285  16.094763   AI.PA\n",
       "...            ...        ...        ...     ...\n",
       "114274  2024-03-04  59.490002  59.389999  TTE.PA\n",
       "114275  2024-03-05  59.049999  59.160000  TTE.PA\n",
       "114276  2024-03-06  59.259998  59.980000  TTE.PA\n",
       "114277  2024-03-07  59.680000  59.919998  TTE.PA\n",
       "114278  2024-03-07  59.680000  59.990002  TTE.PA\n",
       "\n",
       "[114279 rows x 4 columns]"
      ]
     },
     "execution_count": 6,
     "metadata": {},
     "output_type": "execute_result"
    }
   ],
   "source": [
    "result"
   ]
  },
  {
   "cell_type": "code",
   "execution_count": 7,
   "id": "65c671f3",
   "metadata": {},
   "outputs": [],
   "source": [
    "result.to_csv(\"Data_reduce.csv\",index=False, sep=\";\")"
   ]
  },
  {
   "cell_type": "code",
   "execution_count": null,
   "id": "2d7384f5",
   "metadata": {},
   "outputs": [],
   "source": []
  }
 ],
 "metadata": {
  "kernelspec": {
   "display_name": "Python 3 (ipykernel)",
   "language": "python",
   "name": "python3"
  },
  "language_info": {
   "codemirror_mode": {
    "name": "ipython",
    "version": 3
   },
   "file_extension": ".py",
   "mimetype": "text/x-python",
   "name": "python",
   "nbconvert_exporter": "python",
   "pygments_lexer": "ipython3",
   "version": "3.11.5"
  }
 },
 "nbformat": 4,
 "nbformat_minor": 5
}
